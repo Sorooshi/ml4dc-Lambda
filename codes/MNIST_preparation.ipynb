{
 "cells": [
  {
   "cell_type": "code",
   "execution_count": 1,
   "metadata": {},
   "outputs": [],
   "source": [
    "import os\n",
    "import pickle\n",
    "import numpy as np\n",
    "import pandas as pd\n",
    "import tensorflow as tf\n",
    "from matplotlib import pyplot as plt\n",
    "from sklearn.preprocessing import OneHotEncoder\n",
    "from sklearn.model_selection import train_test_split"
   ]
  },
  {
   "cell_type": "code",
   "execution_count": 2,
   "metadata": {},
   "outputs": [],
   "source": [
    "np.set_printoptions(precision=3, suppress=True)"
   ]
  },
  {
   "cell_type": "code",
   "execution_count": 3,
   "metadata": {},
   "outputs": [],
   "source": [
    "# def train_val_test_splitter(Xg, Xb, n_repeats=5, settings=[(0.98, 0.02)],):\n",
    "    \n",
    "#     DATA = {}\n",
    "\n",
    "#     for setting in settings:\n",
    "\n",
    "#         DATA[setting] = {}\n",
    "\n",
    "#         for repeat in range(n_repeats):\n",
    "            \n",
    "#             DATA[setting][repeat] = {}\n",
    "\n",
    "#             Lg = np.repeat(int(1), Xg.shape[0])  # Labels Good\n",
    "\n",
    "#             Xg_train, Xg_test, Lg_train, Lg_test = train_test_split(Xg, Lg,\n",
    "#                                                                     test_size=setting[-1], \n",
    "#                                                                     shuffle=True)\n",
    "\n",
    "#             Xg_test, Xg_val, Lg_test, Lg_val = train_test_split(Xg_test, Lg_test,\n",
    "#                                                                 test_size=0.5, \n",
    "#                                                                 shuffle=True)\n",
    "\n",
    "#             Lb = np.repeat(int(0), Xb.shape[0])  # Labels Bad \n",
    "            \n",
    "#             Xb_train, Xb_test, Lb_train, Lb_test = train_test_split(Xb, Lb,\n",
    "#                                                                     test_size=setting[-1], \n",
    "#                                                                     shuffle=True)\n",
    "\n",
    "#             Xb_test, Xb_val, Lb_test, Lb_val = train_test_split(Xb_test, Lb_test,\n",
    "#                                                                 test_size=0.5, \n",
    "#                                                                 shuffle=True)\n",
    "\n",
    "#             X_train = np.concatenate((Xg_train, Xb_train), axis=0)\n",
    "#             X_val = np.concatenate((Xg_val, Xb_val), axis=0)\n",
    "#             X_test = np.concatenate((Xg_test, Xb_test), axis=0)\n",
    "\n",
    "\n",
    "#             L_train = np.concatenate((Lg_train, Lb_train), axis=0)\n",
    "#             L_val = np.concatenate((Lg_val, Lb_val), axis=0)\n",
    "#             L_test = np.concatenate((Lg_test, Lb_test), axis=0)\n",
    "\n",
    "\n",
    "#             DATA[setting][repeat]['X_tr'] = X_train\n",
    "#             DATA[setting][repeat]['X_vl'] = X_val\n",
    "#             DATA[setting][repeat]['X_ts'] = X_test\n",
    "#             DATA[setting][repeat]['y_tr'] = L_train\n",
    "#             DATA[setting][repeat]['y_vl'] = L_val\n",
    "#             DATA[setting][repeat]['y_ts'] = L_test\n",
    "            \n",
    "#     return DATA\n",
    "\n",
    "\n",
    "#     # with open (os.path.join('SANC_computation', name+features_type+str(size)+'.pickle'), 'wb') as fp:\n",
    "#     #     pickle.dump(data, fp)\n"
   ]
  },
  {
   "cell_type": "code",
   "execution_count": 4,
   "metadata": {},
   "outputs": [],
   "source": [
    "(train_images, train_labels), (test_images, test_labels) = tf.keras.datasets.mnist.load_data()"
   ]
  },
  {
   "cell_type": "code",
   "execution_count": 5,
   "metadata": {},
   "outputs": [
    {
     "name": "stdout",
     "output_type": "stream",
     "text": [
      "<class 'numpy.ndarray'> (60000, 28, 28) 60000 (28, 28)\n"
     ]
    }
   ],
   "source": [
    "print(type(train_images), train_images.shape, len(train_images), train_images[1].shape)"
   ]
  },
  {
   "cell_type": "code",
   "execution_count": 6,
   "metadata": {},
   "outputs": [
    {
     "data": {
      "image/png": "[encoded data removed]",
      "text/plain": [
       "<Figure size 432x288 with 1 Axes>"
      ]
     },
     "metadata": {
      "needs_background": "light"
     },
     "output_type": "display_data"
    }
   ],
   "source": [
    "R = 50\n",
    "plt.imshow(train_images[R])\n",
    "plt.title(train_labels[R])\n",
    "plt.show()"
   ]
  },
  {
   "cell_type": "code",
   "execution_count": 7,
   "metadata": {},
   "outputs": [],
   "source": [
    "normal=1\n",
    "normal_idx = np.where(train_labels==normal)[0]\n",
    "abnormal_idx = np.where(train_labels!=normal)[0]\n",
    "n_abnormals = int(len(normal_idx)/20)\n",
    "idx_abnormals = np.random.choice(abnormal_idx, size=(n_abnormals))\n",
    "\n",
    "\n",
    "mnist = np.zeros([len(normal_idx)+n_abnormals, train_images[0].reshape(1, -1).shape[1]+1])"
   ]
  },
  {
   "cell_type": "code",
   "execution_count": 9,
   "metadata": {},
   "outputs": [],
   "source": [
    "r = 0\n",
    "for idx in normal_idx:\n",
    "    mnist[r, :-1] = train_images[idx].reshape(1, -1)\n",
    "    mnist[r, -1] = 0\n",
    "    r += 1\n",
    "for idx_ in idx_abnormals:\n",
    "    mnist[r, :-1] = train_images[idx_].reshape(1, -1)\n",
    "    mnist[r, -1] = 1\n",
    "    r += 1"
   ]
  },
  {
   "cell_type": "code",
   "execution_count": 11,
   "metadata": {},
   "outputs": [],
   "source": [
    "# Xg = kdd_final[np.where(kdd_final[:, -1]==0)]\n",
    "# Xb = kdd_final[np.where(kdd_final[:, -1]!=0)]\n",
    "# Above code produces error due to memory limits"
   ]
  },
  {
   "cell_type": "code",
   "execution_count": null,
   "metadata": {},
   "outputs": [],
   "source": [
    "Xg = mnist[np.where(mnist[:,-1]==0)].astype('float32')\n",
    "Xb = mnist[np.where(mnist[:,-1]!=0)].astype('float32')"
   ]
  },
  {
   "cell_type": "code",
   "execution_count": null,
   "metadata": {},
   "outputs": [],
   "source": [
    "n_repeats=5\n",
    "settings=[(0.98, 0.02)]\n",
    "\n",
    "DATA = {}\n",
    "\n",
    "for setting in settings:\n",
    "\n",
    "    DATA[setting] = {}\n",
    "\n",
    "    for repeat in range(n_repeats):\n",
    "\n",
    "        DATA[setting][repeat] = {}\n",
    "\n",
    "        normal=repeat\n",
    "        normal_idx = np.where(train_labels==normal)[0]\n",
    "        abnormal_idx = np.where(train_labels!=normal)[0]\n",
    "        n_abnormals = int(len(normal_idx)/10)\n",
    "        idx_abnormals = np.random.choice(abnormal_idx, size=(n_abnormals))\n",
    "\n",
    "        mnist = np.zeros([len(normal_idx)+n_abnormals, train_images[0].reshape(1, -1).shape[1]+1])\n",
    "        r = 0\n",
    "        for idx in normal_idx:\n",
    "            mnist[r, :-1] = train_images[idx].reshape(1, -1)\n",
    "            mnist[r, -1] = 0\n",
    "            r += 1\n",
    "        for idx_ in idx_abnormals:\n",
    "            mnist[r, :-1] = train_images[idx_].reshape(1, -1)\n",
    "            mnist[r, -1] = 1\n",
    "            r += 1\n",
    "\n",
    "        Xg = mnist[np.where(mnist[:,-1]==0)].astype('float32')\n",
    "        Xb = mnist[np.where(mnist[:,-1]!=0)].astype('float32')\n",
    "\n",
    "        Lg = np.repeat(int(1), Xg.shape[0])  # Labels Good\n",
    "\n",
    "        Xg_train, Xg_test, Lg_train, Lg_test = train_test_split(Xg, Lg,\n",
    "                                                                test_size=setting[-1], \n",
    "                                                                shuffle=True)\n",
    "\n",
    "        Xg_test, Xg_val, Lg_test, Lg_val = train_test_split(Xg_test, Lg_test,\n",
    "                                                            test_size=0.5, \n",
    "                                                            shuffle=True)\n",
    "\n",
    "        Lb = np.repeat(int(0), Xb.shape[0])  # Labels Bad \n",
    "\n",
    "        Xb_train, Xb_test, Lb_train, Lb_test = train_test_split(Xb, Lb,\n",
    "                                                                test_size=setting[-1], \n",
    "                                                                shuffle=True)\n",
    "\n",
    "        Xb_test, Xb_val, Lb_test, Lb_val = train_test_split(Xb_test, Lb_test,\n",
    "                                                            test_size=0.5, \n",
    "                                                            shuffle=True)\n",
    "\n",
    "        X_train = np.concatenate((Xg_train, Xb_train), axis=0)\n",
    "        X_val = np.concatenate((Xg_val, Xb_val), axis=0)\n",
    "        X_test = np.concatenate((Xg_test, Xb_test), axis=0)\n",
    "\n",
    "\n",
    "        L_train = np.concatenate((Lg_train, Lb_train), axis=0)\n",
    "        L_val = np.concatenate((Lg_val, Lb_val), axis=0)\n",
    "        L_test = np.concatenate((Lg_test, Lb_test), axis=0)\n",
    "\n",
    "\n",
    "        DATA[setting][repeat]['X_tr'] = X_train\n",
    "        DATA[setting][repeat]['X_vl'] = X_val\n",
    "        DATA[setting][repeat]['X_ts'] = X_test\n",
    "        DATA[setting][repeat]['y_tr'] = L_train\n",
    "        DATA[setting][repeat]['y_vl'] = L_val\n",
    "        DATA[setting][repeat]['y_ts'] = L_test\n",
    "\n",
    "# with open(os.path.join('matrices', 'MNIST.pickle'), 'wb') as fp:\n",
    "#     pickle.dump(DATA, fp)"
   ]
  },
  {
   "cell_type": "code",
   "execution_count": 18,
   "metadata": {},
   "outputs": [
    {
     "data": {
      "text/plain": [
       "array([[0., 0., 0., 0., 0.],\n",
       "       [0., 0., 0., 0., 0.],\n",
       "       [0., 0., 0., 0., 0.]])"
      ]
     },
     "execution_count": 18,
     "metadata": {},
     "output_type": "execute_result"
    }
   ],
   "source": [
    "a = np.zeros([3, 5])\n",
    "a"
   ]
  },
  {
   "cell_type": "code",
   "execution_count": 19,
   "metadata": {},
   "outputs": [
    {
     "data": {
      "text/plain": [
       "array([0., 0., 0., 0., 0.])"
      ]
     },
     "execution_count": 19,
     "metadata": {},
     "output_type": "execute_result"
    }
   ],
   "source": [
    "a[1,:]"
   ]
  },
  {
   "cell_type": "code",
   "execution_count": 20,
   "metadata": {},
   "outputs": [
    {
     "name": "stdout",
     "output_type": "stream",
     "text": [
      "setting: (0.98, 0.02)\n",
      "dims: (785,) (785,) (785,)\n",
      "dims: (785,) (785,) (785,)\n",
      "dims: (785,) (785,) (785,)\n",
      "dims: (785,) (785,) (785,)\n",
      "dims: (785,) (785,) (785,)\n"
     ]
    }
   ],
   "source": [
    "\n",
    "with open (os.path.join('matrices', 'MNIST.pickle'), 'rb') as fp:\n",
    "    tmp_ = pickle.load(fp)\n",
    "\n",
    "l = 0\n",
    "for settings, repeats in tmp_.items():\n",
    "    print(\"setting:\", settings)\n",
    "    for repeat, matrices in repeats.items(): \n",
    "#         print(l, repeat, matrices['X_tr'].shape, matrices['X_vl'].shape, matrices['X_ts'].shape)\n",
    "        print(\"dims:\", matrices['X_tr'][20].shape, matrices['X_ts'][20].shape, matrices['X_vl'][20].shape)\n",
    "        l +=1"
   ]
  },
  {
   "cell_type": "code",
   "execution_count": null,
   "metadata": {},
   "outputs": [],
   "source": [
    "n_abnormals"
   ]
  },
  {
   "cell_type": "code",
   "execution_count": null,
   "metadata": {},
   "outputs": [],
   "source": []
  },
  {
   "cell_type": "code",
   "execution_count": null,
   "metadata": {},
   "outputs": [],
   "source": []
  }
 ],
 "metadata": {
  "kernelspec": {
   "display_name": "Python 3",
   "language": "python",
   "name": "python3"
  },
  "language_info": {
   "codemirror_mode": {
    "name": "ipython",
    "version": 3
   },
   "file_extension": ".py",
   "mimetype": "text/x-python",
   "name": "python",
   "nbconvert_exporter": "python",
   "pygments_lexer": "ipython3",
   "version": "3.7.3"
  }
 },
 "nbformat": 4,
 "nbformat_minor": 2
}
