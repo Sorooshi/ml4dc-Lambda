{
 "cells": [
  {
   "cell_type": "code",
   "execution_count": null,
   "metadata": {},
   "outputs": [],
   "source": [
    "import os\n",
    "import pickle\n",
    "import numpy as np\n",
    "import pandas as pd\n",
    "from sklearn.preprocessing import OneHotEncoder\n",
    "from sklearn.model_selection import train_test_split"
   ]
  },
  {
   "cell_type": "code",
   "execution_count": null,
   "metadata": {},
   "outputs": [],
   "source": [
    "np.set_printoptions(precision=3, suppress=True)"
   ]
  },
  {
   "cell_type": "code",
   "execution_count": 46,
   "metadata": {},
   "outputs": [],
   "source": [
    "def train_val_test_splitter(Xg, Xb, n_repeats=5, settings=[(0.98, 0.02)],):\n",
    "    \n",
    "    DATA = {}\n",
    "\n",
    "    for setting in settings:\n",
    "\n",
    "        DATA[setting] = {}\n",
    "\n",
    "        for repeat in range(n_repeats):\n",
    "            \n",
    "            DATA[setting][repeat] = {}\n",
    "            \n",
    "            idx_norm = np.random.randint(low=0, high=Xg.shape[0], size=20000)\n",
    "            Xg_ = Xg[idx_norm, :]\n",
    "\n",
    "            n_abnormalities = int(Xg_.shape[0]/20)\n",
    "            print(\"n_abnormalities:\", n_abnormalities)\n",
    "            \n",
    "            idx_abnorm = np.random.randint(low=0, high=Xb.shape[0], size=n_abnormalities)\n",
    "            Xb_ = Xb[idx_abnorm, :]\n",
    "            \n",
    "            Lg = np.repeat(int(1), Xg_.shape[0])  # Labels Good\n",
    "\n",
    "            Xg_train, Xg_test, Lg_train, Lg_test = train_test_split(Xg_, Lg,\n",
    "                                                                    test_size=setting[-1], \n",
    "                                                                    shuffle=True)\n",
    "\n",
    "            Xg_test, Xg_val, Lg_test, Lg_val = train_test_split(Xg_test, Lg_test,\n",
    "                                                                test_size=0.5, \n",
    "                                                                shuffle=True)\n",
    "\n",
    "            Lb = np.repeat(int(0), Xb_.shape[0])  # Labels Bad \n",
    "            \n",
    "            Xb_train, Xb_test, Lb_train, Lb_test = train_test_split(Xb_, Lb,\n",
    "                                                                    test_size=setting[-1], \n",
    "                                                                    shuffle=True)\n",
    "\n",
    "            Xb_test, Xb_val, Lb_test, Lb_val = train_test_split(Xb_test, Lb_test,\n",
    "                                                                test_size=0.5, \n",
    "                                                                shuffle=True)\n",
    "\n",
    "            X_train = np.concatenate((Xg_train, Xb_train), axis=0)\n",
    "            X_val = np.concatenate((Xg_val, Xb_val), axis=0)\n",
    "            X_test = np.concatenate((Xg_test, Xb_test), axis=0)\n",
    "\n",
    "\n",
    "            L_train = np.concatenate((Lg_train, Lb_train), axis=0)\n",
    "            L_val = np.concatenate((Lg_val, Lb_val), axis=0)\n",
    "            L_test = np.concatenate((Lg_test, Lb_test), axis=0)\n",
    "\n",
    "\n",
    "            DATA[setting][repeat]['X_tr'] = X_train\n",
    "            DATA[setting][repeat]['X_vl'] = X_val\n",
    "            DATA[setting][repeat]['X_ts'] = X_test\n",
    "            DATA[setting][repeat]['y_tr'] = L_train\n",
    "            DATA[setting][repeat]['y_vl'] = L_val\n",
    "            DATA[setting][repeat]['y_ts'] = L_test\n",
    "            \n",
    "    return DATA\n",
    "\n",
    "\n",
    "    # with open (os.path.join('SANC_computation', name+features_type+str(size)+'.pickle'), 'wb') as fp:\n",
    "    #     pickle.dump(data, fp)\n"
   ]
  },
  {
   "cell_type": "code",
   "execution_count": 3,
   "metadata": {},
   "outputs": [],
   "source": [
    "with open (\"kddcup.data\", 'r') as fp:\n",
    "    KDD = fp.readlines()"
   ]
  },
  {
   "cell_type": "code",
   "execution_count": 4,
   "metadata": {},
   "outputs": [
    {
     "name": "stdout",
     "output_type": "stream",
     "text": [
      "<class 'list'> 4898431 147\n"
     ]
    }
   ],
   "source": [
    "print(type(KDD), len(KDD), len(KDD[0]))"
   ]
  },
  {
   "cell_type": "code",
   "execution_count": 5,
   "metadata": {},
   "outputs": [
    {
     "data": {
      "text/plain": [
       "('0', ',', 't', 'l', '.', '\\n')"
      ]
     },
     "execution_count": 5,
     "metadata": {},
     "output_type": "execute_result"
    }
   ],
   "source": [
    "KDD[0][0], KDD[0][1], KDD[0][2], KDD[0][-3], KDD[0][-2], KDD[0][-1]"
   ]
  },
  {
   "cell_type": "code",
   "execution_count": 6,
   "metadata": {},
   "outputs": [],
   "source": [
    "tmp_kdd = []\n",
    "for line in range(len(KDD)):\n",
    "    tmp_kdd.append(KDD[line].strip().split(\",\"))"
   ]
  },
  {
   "cell_type": "code",
   "execution_count": 7,
   "metadata": {},
   "outputs": [
    {
     "data": {
      "text/plain": [
       "(list, 4898431, 42)"
      ]
     },
     "execution_count": 7,
     "metadata": {},
     "output_type": "execute_result"
    }
   ],
   "source": [
    "type(tmp_kdd), len(tmp_kdd), len(tmp_kdd[0])"
   ]
  },
  {
   "cell_type": "code",
   "execution_count": 8,
   "metadata": {},
   "outputs": [
    {
     "name": "stdout",
     "output_type": "stream",
     "text": [
      "3925650 972781 True\n"
     ]
    }
   ],
   "source": [
    "abnormalities = 0\n",
    "normals = 0\n",
    "for i in tmp_kdd:\n",
    "    if i[-1] != 'normal.':\n",
    "        abnormalities += 1\n",
    "    else:\n",
    "        normals += 1 \n",
    "        \n",
    "print(abnormalities, normals, normals+abnormalities == len(tmp_kdd))"
   ]
  },
  {
   "cell_type": "code",
   "execution_count": 9,
   "metadata": {},
   "outputs": [],
   "source": [
    "internet_protocols = []\n",
    "transfer_protocols = []\n",
    "s_types = []\n",
    "labels = []\n",
    "categoricals = [1, 2, 3, 41]"
   ]
  },
  {
   "cell_type": "code",
   "execution_count": 10,
   "metadata": {},
   "outputs": [],
   "source": [
    "for i in tmp_kdd:\n",
    "    if i[1] not in internet_protocols:\n",
    "        internet_protocols.append(i[1])\n",
    "    if i[2] not in transfer_protocols:\n",
    "        transfer_protocols.append(i[2])\n",
    "    if i[3] not in s_types:\n",
    "        s_types.append(i[3])\n",
    "    if i[-1] not in labels:\n",
    "        labels.append(i[-1])"
   ]
  },
  {
   "cell_type": "code",
   "execution_count": 11,
   "metadata": {},
   "outputs": [
    {
     "data": {
      "text/plain": [
       "['normal.',\n",
       " 'buffer_overflow.',\n",
       " 'loadmodule.',\n",
       " 'perl.',\n",
       " 'neptune.',\n",
       " 'smurf.',\n",
       " 'guess_passwd.',\n",
       " 'pod.',\n",
       " 'teardrop.',\n",
       " 'portsweep.',\n",
       " 'ipsweep.',\n",
       " 'land.',\n",
       " 'ftp_write.',\n",
       " 'back.',\n",
       " 'imap.',\n",
       " 'satan.',\n",
       " 'phf.',\n",
       " 'nmap.',\n",
       " 'multihop.',\n",
       " 'warezmaster.',\n",
       " 'warezclient.',\n",
       " 'spy.',\n",
       " 'rootkit.']"
      ]
     },
     "execution_count": 11,
     "metadata": {},
     "output_type": "execute_result"
    }
   ],
   "source": [
    "labels"
   ]
  },
  {
   "cell_type": "code",
   "execution_count": 12,
   "metadata": {},
   "outputs": [
    {
     "data": {
      "text/plain": [
       "((4898431, 42),)"
      ]
     },
     "execution_count": 12,
     "metadata": {},
     "output_type": "execute_result"
    }
   ],
   "source": [
    "kdd_90 = np.zeros([len(tmp_kdd), len(tmp_kdd[0])])\n",
    "kdd_90.shape,"
   ]
  },
  {
   "cell_type": "code",
   "execution_count": 13,
   "metadata": {},
   "outputs": [
    {
     "data": {
      "text/plain": [
       "int"
      ]
     },
     "execution_count": 13,
     "metadata": {},
     "output_type": "execute_result"
    }
   ],
   "source": [
    "type(internet_protocols.index('icmp'))"
   ]
  },
  {
   "cell_type": "code",
   "execution_count": 14,
   "metadata": {},
   "outputs": [],
   "source": [
    "r = 0\n",
    "for row in tmp_kdd:\n",
    "    c = 0\n",
    "    for i in row:\n",
    "        if not c in categoricals:\n",
    "            kdd_90[r, c] = float(i)\n",
    "        elif c == 1:\n",
    "            kdd_90[r, c] = internet_protocols.index(i)\n",
    "        elif c == 2:\n",
    "            kdd_90[r, c] = transfer_protocols.index(i)\n",
    "        elif c == 3:\n",
    "            kdd_90[r, c] = s_types.index(i)\n",
    "        elif c == 41:\n",
    "            if i == 'normal.':\n",
    "                kdd_90[r, c] = int(0)\n",
    "            else:\n",
    "                kdd_90[r, c] = int(1)\n",
    "        c += 1\n",
    "    r += 1"
   ]
  },
  {
   "cell_type": "code",
   "execution_count": 15,
   "metadata": {},
   "outputs": [
    {
     "data": {
      "text/plain": [
       "((4898431, 42), numpy.ndarray)"
      ]
     },
     "execution_count": 15,
     "metadata": {},
     "output_type": "execute_result"
    }
   ],
   "source": [
    "kdd_90.shape, type(kdd_90)"
   ]
  },
  {
   "cell_type": "code",
   "execution_count": 16,
   "metadata": {},
   "outputs": [
    {
     "name": "stdout",
     "output_type": "stream",
     "text": [
      "True True True False\n"
     ]
    }
   ],
   "source": [
    "print(len(set(kdd_90[:, 1].tolist())) == len(internet_protocols),\n",
    "len(set(kdd_90[:, 2].tolist())) == len(transfer_protocols),\n",
    "len(set(kdd_90[:, 3].tolist())) == len(s_types), \n",
    "len(set(kdd_90[:, -1].tolist())) == len(labels))"
   ]
  },
  {
   "cell_type": "code",
   "execution_count": 17,
   "metadata": {},
   "outputs": [
    {
     "data": {
      "text/plain": [
       "numpy.float64"
      ]
     },
     "execution_count": 17,
     "metadata": {},
     "output_type": "execute_result"
    }
   ],
   "source": [
    "type(kdd_90[0, 1])"
   ]
  },
  {
   "cell_type": "code",
   "execution_count": 18,
   "metadata": {},
   "outputs": [],
   "source": [
    "# enc = OneHotEncoder(sparse=False, categories='auto') \n",
    "# categorical_features = enc.fit_transform(kdd_90[:, 1:4])\n",
    "# categorical_features.shape, kdd_90[:, 4:-1].shape\n"
   ]
  },
  {
   "cell_type": "code",
   "execution_count": 19,
   "metadata": {},
   "outputs": [],
   "source": [
    "# kdd_final = np.concatenate([categorical_features, kdd_90[:, 4:]], axis=1)\n",
    "# kdd_final.shape"
   ]
  },
  {
   "cell_type": "code",
   "execution_count": 20,
   "metadata": {},
   "outputs": [],
   "source": [
    "# Xg = kdd_final[np.where(kdd_final[:,-1]==0)].astype('float32')\n",
    "# Xb_ = kdd_final[np.where(kdd_final[:,-1]!=0)].astype('float32')"
   ]
  },
  {
   "cell_type": "code",
   "execution_count": 32,
   "metadata": {},
   "outputs": [],
   "source": [
    "Xg = kdd_90[np.where(kdd_90[:,-1]==0)].astype('float32')\n",
    "Xb = kdd_90[np.where(kdd_90[:,-1]!=0)].astype('float32')"
   ]
  },
  {
   "cell_type": "code",
   "execution_count": 33,
   "metadata": {},
   "outputs": [
    {
     "data": {
      "text/plain": [
       "((3925650, 42), (972781, 42))"
      ]
     },
     "execution_count": 33,
     "metadata": {},
     "output_type": "execute_result"
    }
   ],
   "source": [
    "Xb.shape, Xg.shape"
   ]
  },
  {
   "cell_type": "code",
   "execution_count": 47,
   "metadata": {},
   "outputs": [
    {
     "name": "stdout",
     "output_type": "stream",
     "text": [
      "n_abnormalities: 1000\n",
      "n_abnormalities: 1000\n",
      "n_abnormalities: 1000\n",
      "n_abnormalities: 1000\n",
      "n_abnormalities: 1000\n",
      "setting: (0.98, 0.02)\n",
      "0 0 (20580, 41) (210, 41)\n",
      "1 1 (20580, 41) (210, 41)\n",
      "2 2 (20580, 41) (210, 41)\n",
      "3 3 (20580, 41) (210, 41)\n",
      "4 4 (20580, 41) (210, 41)\n"
     ]
    }
   ],
   "source": [
    "KDD_90 = train_val_test_splitter(Xg=Xg[:, :-1], Xb=Xb[:, :-1], settings=[(0.98, 0.02),])  \n",
    "\n",
    "with open(os.path.join('matrices', 'KDD_90.pickle'), 'wb') as fp:\n",
    "    pickle.dump(KDD_90, fp)\n",
    "\n",
    "with open (os.path.join('matrices', 'KDD_90.pickle'), 'rb') as fp:\n",
    "    tmp_ = pickle.load(fp)\n",
    "    \n",
    "    \n",
    "l = 0\n",
    "for settings, repeats in tmp_.items():\n",
    "    print(\"setting:\", settings)\n",
    "    for repeat, matrices in repeats.items(): \n",
    "        print(l, repeat, matrices['X_tr'].shape, matrices['X_vl'].shape)\n",
    "        l +=1"
   ]
  },
  {
   "cell_type": "code",
   "execution_count": null,
   "metadata": {},
   "outputs": [],
   "source": []
  },
  {
   "cell_type": "code",
   "execution_count": null,
   "metadata": {},
   "outputs": [],
   "source": []
  },
  {
   "cell_type": "code",
   "execution_count": null,
   "metadata": {},
   "outputs": [],
   "source": []
  }
 ],
 "metadata": {
  "kernelspec": {
   "display_name": "Python 3",
   "language": "python",
   "name": "python3"
  },
  "language_info": {
   "codemirror_mode": {
    "name": "ipython",
    "version": 3
   },
   "file_extension": ".py",
   "mimetype": "text/x-python",
   "name": "python",
   "nbconvert_exporter": "python",
   "pygments_lexer": "ipython3",
   "version": "3.7.3"
  }
 },
 "nbformat": 4,
 "nbformat_minor": 2
}
